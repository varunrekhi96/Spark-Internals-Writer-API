{
 "cells": [
  {
   "cell_type": "code",
   "execution_count": 1,
   "id": "82009853",
   "metadata": {},
   "outputs": [],
   "source": [
    "from pyspark.sql import SparkSession\n",
    "import getpass\n",
    "username = getpass.getuser()\n",
    "spark = SparkSession. \\\n",
    "builder. \\\n",
    "config('spark.ui.port', '0'). \\\n",
    "config('spark.shuffle.useOldFetchProtocol', 'true'). \\\n",
    "config(\"spark.sql.warehouse.dir\", f\"/user/{username}/warehouse\"). \\\n",
    "enableHiveSupport(). \\\n",
    "master('yarn'). \\\n",
    "getOrCreate()"
   ]
  },
  {
   "cell_type": "code",
   "execution_count": 2,
   "id": "91984ac4",
   "metadata": {},
   "outputs": [],
   "source": [
    "orders_schema = \"order_id long , order_date string, cust_id long,order_status string\""
   ]
  },
  {
   "cell_type": "code",
   "execution_count": 3,
   "id": "2471551e",
   "metadata": {},
   "outputs": [],
   "source": [
    "orders_df = spark.read \\\n",
    ".format(\"csv\") \\\n",
    ".schema(orders_schema) \\\n",
    ".load(\"/public/trendytech/orders/orders_1gb.csv\")"
   ]
  },
  {
   "cell_type": "code",
   "execution_count": 4,
   "id": "805ce8f7",
   "metadata": {},
   "outputs": [
    {
     "name": "stdout",
     "output_type": "stream",
     "text": [
      "+--------+--------------------+-------+---------------+\n",
      "|order_id|          order_date|cust_id|   order_status|\n",
      "+--------+--------------------+-------+---------------+\n",
      "|       1|2013-07-25 00:00:...|  11599|         CLOSED|\n",
      "|       2|2013-07-25 00:00:...|    256|PENDING_PAYMENT|\n",
      "|       3|2013-07-25 00:00:...|  12111|       COMPLETE|\n",
      "|       4|2013-07-25 00:00:...|   8827|         CLOSED|\n",
      "|       5|2013-07-25 00:00:...|  11318|       COMPLETE|\n",
      "|       6|2013-07-25 00:00:...|   7130|       COMPLETE|\n",
      "|       7|2013-07-25 00:00:...|   4530|       COMPLETE|\n",
      "|       8|2013-07-25 00:00:...|   2911|     PROCESSING|\n",
      "|       9|2013-07-25 00:00:...|   5657|PENDING_PAYMENT|\n",
      "|      10|2013-07-25 00:00:...|   5648|PENDING_PAYMENT|\n",
      "|      11|2013-07-25 00:00:...|    918| PAYMENT_REVIEW|\n",
      "|      12|2013-07-25 00:00:...|   1837|         CLOSED|\n",
      "|      13|2013-07-25 00:00:...|   9149|PENDING_PAYMENT|\n",
      "|      14|2013-07-25 00:00:...|   9842|     PROCESSING|\n",
      "|      15|2013-07-25 00:00:...|   2568|       COMPLETE|\n",
      "|      16|2013-07-25 00:00:...|   7276|PENDING_PAYMENT|\n",
      "|      17|2013-07-25 00:00:...|   2667|       COMPLETE|\n",
      "|      18|2013-07-25 00:00:...|   1205|         CLOSED|\n",
      "|      19|2013-07-25 00:00:...|   9488|PENDING_PAYMENT|\n",
      "|      20|2013-07-25 00:00:...|   9198|     PROCESSING|\n",
      "+--------+--------------------+-------+---------------+\n",
      "only showing top 20 rows\n",
      "\n"
     ]
    }
   ],
   "source": [
    "orders_df.show()"
   ]
  },
  {
   "cell_type": "code",
   "execution_count": 5,
   "id": "5bcb0880",
   "metadata": {},
   "outputs": [
    {
     "data": {
      "text/plain": [
       "'134217728b'"
      ]
     },
     "execution_count": 5,
     "metadata": {},
     "output_type": "execute_result"
    }
   ],
   "source": [
    "spark.conf.get(\"spark.sql.files.maxPartitionBytes\")"
   ]
  },
  {
   "cell_type": "code",
   "execution_count": 6,
   "id": "1cf8ff0f",
   "metadata": {},
   "outputs": [
    {
     "data": {
      "text/plain": [
       "128.0"
      ]
     },
     "execution_count": 6,
     "metadata": {},
     "output_type": "execute_result"
    }
   ],
   "source": [
    "134217728 / (1024 * 1024)"
   ]
  },
  {
   "cell_type": "code",
   "execution_count": 7,
   "id": "8e2488dd",
   "metadata": {},
   "outputs": [
    {
     "data": {
      "text/plain": [
       "2"
      ]
     },
     "execution_count": 7,
     "metadata": {},
     "output_type": "execute_result"
    }
   ],
   "source": [
    "spark.sparkContext.defaultParallelism"
   ]
  },
  {
   "cell_type": "code",
   "execution_count": 8,
   "id": "004b9568",
   "metadata": {},
   "outputs": [
    {
     "data": {
      "text/plain": [
       "9"
      ]
     },
     "execution_count": 8,
     "metadata": {},
     "output_type": "execute_result"
    }
   ],
   "source": [
    "orders_df.rdd.getNumPartitions()"
   ]
  },
  {
   "cell_type": "code",
   "execution_count": 9,
   "id": "5f99b827",
   "metadata": {},
   "outputs": [],
   "source": [
    "new_orders_df = orders_df.repartition(1)"
   ]
  },
  {
   "cell_type": "code",
   "execution_count": 10,
   "id": "f01e4329",
   "metadata": {},
   "outputs": [
    {
     "data": {
      "text/plain": [
       "1"
      ]
     },
     "execution_count": 10,
     "metadata": {},
     "output_type": "execute_result"
    }
   ],
   "source": [
    "new_orders_df.rdd.getNumPartitions()"
   ]
  },
  {
   "cell_type": "code",
   "execution_count": 11,
   "id": "53a2a3ff",
   "metadata": {},
   "outputs": [],
   "source": [
    "new_orders_df.write \\\n",
    ".format(\"csv\") \\\n",
    ".mode(\"overwrite\") \\\n",
    ".option(\"codec\", \"org.apache.hadoop.io.compress.GzipCodec\") \\\n",
    ".save(\"orders_gz\")"
   ]
  },
  {
   "cell_type": "code",
   "execution_count": 12,
   "id": "7e876df8",
   "metadata": {},
   "outputs": [],
   "source": [
    "orders_df = spark.read \\\n",
    ".format(\"csv\") \\\n",
    ".schema(orders_schema) \\\n",
    ".load(\"orders_gz\")"
   ]
  },
  {
   "cell_type": "code",
   "execution_count": 13,
   "id": "71e5c805",
   "metadata": {},
   "outputs": [
    {
     "name": "stdout",
     "output_type": "stream",
     "text": [
      "+--------+--------------------+-------+---------------+\n",
      "|order_id|          order_date|cust_id|   order_status|\n",
      "+--------+--------------------+-------+---------------+\n",
      "|   51049|2014-06-09 00:00:...|   4983|     PROCESSING|\n",
      "|   51050|2014-06-09 00:00:...|   1840|        ON_HOLD|\n",
      "|   51051|2014-06-09 00:00:...|   8207|       COMPLETE|\n",
      "|   51052|2014-06-09 00:00:...|   6254|       COMPLETE|\n",
      "|   51053|2014-06-09 00:00:...|    348|        PENDING|\n",
      "|   51054|2014-06-09 00:00:...|   1468|       COMPLETE|\n",
      "|   51055|2014-06-09 00:00:...|   3843|PENDING_PAYMENT|\n",
      "|   51056|2014-06-09 00:00:...|   7178|PENDING_PAYMENT|\n",
      "|   51057|2014-06-09 00:00:...|    749|       COMPLETE|\n",
      "|   51058|2014-06-09 00:00:...|   5146|        PENDING|\n",
      "|   51059|2014-06-09 00:00:...|   4645|         CLOSED|\n",
      "|   51060|2014-06-09 00:00:...|    247|       COMPLETE|\n",
      "|   51061|2014-06-09 00:00:...|   6551|        PENDING|\n",
      "|   51062|2014-06-09 00:00:...|   5548|     PROCESSING|\n",
      "|   51063|2014-06-09 00:00:...|   7020|         CLOSED|\n",
      "|   51064|2014-06-09 00:00:...|    909|PENDING_PAYMENT|\n",
      "|   51065|2014-06-09 00:00:...|   7975|PENDING_PAYMENT|\n",
      "|   51066|2014-06-09 00:00:...|   6494|        PENDING|\n",
      "|   51067|2014-06-09 00:00:...|   1380|         CLOSED|\n",
      "|   51068|2014-06-09 00:00:...|   5766|       COMPLETE|\n",
      "+--------+--------------------+-------+---------------+\n",
      "only showing top 20 rows\n",
      "\n"
     ]
    }
   ],
   "source": [
    "orders_df.show()"
   ]
  },
  {
   "cell_type": "code",
   "execution_count": 14,
   "id": "c99891bc",
   "metadata": {},
   "outputs": [
    {
     "data": {
      "text/plain": [
       "1"
      ]
     },
     "execution_count": 14,
     "metadata": {},
     "output_type": "execute_result"
    }
   ],
   "source": [
    "orders_df.rdd.getNumPartitions()"
   ]
  },
  {
   "cell_type": "code",
   "execution_count": 15,
   "id": "b1ee16de",
   "metadata": {},
   "outputs": [],
   "source": [
    "new_orders_df.write \\\n",
    ".format(\"csv\") \\\n",
    ".mode(\"overwrite\") \\\n",
    ".option(\"codec\", \"snappy\") \\\n",
    ".save(\"orders_snappy\")"
   ]
  },
  {
   "cell_type": "code",
   "execution_count": 16,
   "id": "2413a7a3",
   "metadata": {},
   "outputs": [],
   "source": [
    "orders_df = spark.read \\\n",
    ".format(\"csv\") \\\n",
    ".schema(orders_schema) \\\n",
    ".load(\"orders_snappy\")"
   ]
  },
  {
   "cell_type": "code",
   "execution_count": 17,
   "id": "54c11001",
   "metadata": {},
   "outputs": [
    {
     "name": "stdout",
     "output_type": "stream",
     "text": [
      "+--------+--------------------+-------+---------------+\n",
      "|order_id|          order_date|cust_id|   order_status|\n",
      "+--------+--------------------+-------+---------------+\n",
      "|   33204|2014-02-15 00:00:...|   4512|         CLOSED|\n",
      "|   33205|2014-02-15 00:00:...|   9436|PENDING_PAYMENT|\n",
      "|   33206|2014-02-15 00:00:...|   2351|       COMPLETE|\n",
      "|   33207|2014-02-15 00:00:...|   6009|       COMPLETE|\n",
      "|   33208|2014-02-15 00:00:...|   2595|       COMPLETE|\n",
      "|   33209|2014-02-15 00:00:...|    913|PENDING_PAYMENT|\n",
      "|   33210|2014-02-15 00:00:...|   9204|         CLOSED|\n",
      "|   33211|2014-02-15 00:00:...|    113|PENDING_PAYMENT|\n",
      "|   33212|2014-02-15 00:00:...|   7686|PENDING_PAYMENT|\n",
      "|   33213|2014-02-15 00:00:...|   8638|       COMPLETE|\n",
      "|   33214|2014-02-15 00:00:...|   7740|PENDING_PAYMENT|\n",
      "|   33215|2014-02-15 00:00:...|   1216|       COMPLETE|\n",
      "|   33216|2014-02-15 00:00:...|   4227|       COMPLETE|\n",
      "|   33217|2014-02-15 00:00:...|   4301|       COMPLETE|\n",
      "|   33218|2014-02-15 00:00:...|    524|     PROCESSING|\n",
      "|   33219|2014-02-15 00:00:...|   8232|SUSPECTED_FRAUD|\n",
      "|   33220|2014-02-15 00:00:...|   6153|PENDING_PAYMENT|\n",
      "|   33221|2014-02-15 00:00:...|   1443|       COMPLETE|\n",
      "|   33222|2014-02-15 00:00:...|   9618|       COMPLETE|\n",
      "|   33223|2014-02-15 00:00:...|   1825|         CLOSED|\n",
      "+--------+--------------------+-------+---------------+\n",
      "only showing top 20 rows\n",
      "\n"
     ]
    }
   ],
   "source": [
    "orders_df.show()"
   ]
  },
  {
   "cell_type": "code",
   "execution_count": 18,
   "id": "51dfff53",
   "metadata": {},
   "outputs": [
    {
     "data": {
      "text/plain": [
       "1"
      ]
     },
     "execution_count": 18,
     "metadata": {},
     "output_type": "execute_result"
    }
   ],
   "source": [
    "orders_df.rdd.getNumPartitions()"
   ]
  },
  {
   "cell_type": "code",
   "execution_count": 19,
   "id": "6fd3f291",
   "metadata": {},
   "outputs": [],
   "source": [
    "new_orders_df.write \\\n",
    ".mode(\"overwrite\") \\\n",
    ".save(\"orders_parquet_new\")"
   ]
  },
  {
   "cell_type": "code",
   "execution_count": 20,
   "id": "1de51ad2",
   "metadata": {},
   "outputs": [],
   "source": [
    "orders_new_df = spark.read \\\n",
    ".load(\"orders_parquet_new\")"
   ]
  },
  {
   "cell_type": "code",
   "execution_count": 21,
   "id": "1f315e43",
   "metadata": {},
   "outputs": [
    {
     "name": "stdout",
     "output_type": "stream",
     "text": [
      "+--------+--------------------+-------+---------------+\n",
      "|order_id|          order_date|cust_id|   order_status|\n",
      "+--------+--------------------+-------+---------------+\n",
      "|   51049|2014-06-09 00:00:...|   4983|     PROCESSING|\n",
      "|   51050|2014-06-09 00:00:...|   1840|        ON_HOLD|\n",
      "|   51051|2014-06-09 00:00:...|   8207|       COMPLETE|\n",
      "|   51052|2014-06-09 00:00:...|   6254|       COMPLETE|\n",
      "|   51053|2014-06-09 00:00:...|    348|        PENDING|\n",
      "|   51054|2014-06-09 00:00:...|   1468|       COMPLETE|\n",
      "|   51055|2014-06-09 00:00:...|   3843|PENDING_PAYMENT|\n",
      "|   51056|2014-06-09 00:00:...|   7178|PENDING_PAYMENT|\n",
      "|   51057|2014-06-09 00:00:...|    749|       COMPLETE|\n",
      "|   51058|2014-06-09 00:00:...|   5146|        PENDING|\n",
      "|   51059|2014-06-09 00:00:...|   4645|         CLOSED|\n",
      "|   51060|2014-06-09 00:00:...|    247|       COMPLETE|\n",
      "|   51061|2014-06-09 00:00:...|   6551|        PENDING|\n",
      "|   51062|2014-06-09 00:00:...|   5548|     PROCESSING|\n",
      "|   51063|2014-06-09 00:00:...|   7020|         CLOSED|\n",
      "|   51064|2014-06-09 00:00:...|    909|PENDING_PAYMENT|\n",
      "|   51065|2014-06-09 00:00:...|   7975|PENDING_PAYMENT|\n",
      "|   51066|2014-06-09 00:00:...|   6494|        PENDING|\n",
      "|   51067|2014-06-09 00:00:...|   1380|         CLOSED|\n",
      "|   51068|2014-06-09 00:00:...|   5766|       COMPLETE|\n",
      "+--------+--------------------+-------+---------------+\n",
      "only showing top 20 rows\n",
      "\n"
     ]
    }
   ],
   "source": [
    "orders_new_df.show()"
   ]
  },
  {
   "cell_type": "code",
   "execution_count": 22,
   "id": "a505ce48",
   "metadata": {},
   "outputs": [
    {
     "data": {
      "text/plain": [
       "2"
      ]
     },
     "execution_count": 22,
     "metadata": {},
     "output_type": "execute_result"
    }
   ],
   "source": [
    "orders_new_df.rdd.getNumPartitions()"
   ]
  },
  {
   "cell_type": "code",
   "execution_count": 23,
   "id": "e9f2a8b1",
   "metadata": {},
   "outputs": [
    {
     "data": {
      "text/plain": [
       "1"
      ]
     },
     "execution_count": 23,
     "metadata": {},
     "output_type": "execute_result"
    }
   ],
   "source": [
    "new_orders_df.rdd.getNumPartitions()"
   ]
  },
  {
   "cell_type": "code",
   "execution_count": 24,
   "id": "71d8163e",
   "metadata": {},
   "outputs": [],
   "source": [
    "final_orders_df = new_orders_df.repartition(20)"
   ]
  },
  {
   "cell_type": "code",
   "execution_count": 25,
   "id": "e0960683",
   "metadata": {},
   "outputs": [
    {
     "data": {
      "text/plain": [
       "20"
      ]
     },
     "execution_count": 25,
     "metadata": {},
     "output_type": "execute_result"
    }
   ],
   "source": [
    "final_orders_df.rdd.getNumPartitions()"
   ]
  },
  {
   "cell_type": "code",
   "execution_count": 26,
   "id": "557947e4",
   "metadata": {},
   "outputs": [],
   "source": [
    "final_orders_df.write \\\n",
    ".format(\"csv\") \\\n",
    ".mode(\"overwrite\") \\\n",
    ".save(\"orders_final\")"
   ]
  },
  {
   "cell_type": "code",
   "execution_count": 27,
   "id": "2e983571",
   "metadata": {},
   "outputs": [],
   "source": [
    "orders_df = spark.read \\\n",
    ".format(\"csv\") \\\n",
    ".schema(orders_schema) \\\n",
    ".load(\"orders_final\")"
   ]
  },
  {
   "cell_type": "code",
   "execution_count": 28,
   "id": "e5d5cbb2",
   "metadata": {},
   "outputs": [
    {
     "name": "stdout",
     "output_type": "stream",
     "text": [
      "+--------+--------------------+-------+---------------+\n",
      "|order_id|          order_date|cust_id|   order_status|\n",
      "+--------+--------------------+-------+---------------+\n",
      "|   17523|2013-11-11 00:00:...|   9277|         CLOSED|\n",
      "|   17523|2013-11-11 00:00:...|   9277|         CLOSED|\n",
      "|   42679|2014-04-14 00:00:...|   1479|        ON_HOLD|\n",
      "|   42679|2014-04-14 00:00:...|   1479|        ON_HOLD|\n",
      "|   42679|2014-04-14 00:00:...|   1479|        ON_HOLD|\n",
      "|   33615|2014-02-17 00:00:...|   8581|       COMPLETE|\n",
      "|   33615|2014-02-17 00:00:...|   8581|       COMPLETE|\n",
      "|   32649|2014-02-11 00:00:...|   7926|PENDING_PAYMENT|\n",
      "|   32649|2014-02-11 00:00:...|   7926|PENDING_PAYMENT|\n",
      "|    3520|2013-08-14 00:00:...|  12180|       COMPLETE|\n",
      "|    3520|2013-08-14 00:00:...|  12180|       COMPLETE|\n",
      "|   39976|2014-03-29 00:00:...|   7426|         CLOSED|\n",
      "|   39976|2014-03-29 00:00:...|   7426|         CLOSED|\n",
      "|   39976|2014-03-29 00:00:...|   7426|         CLOSED|\n",
      "|   27250|2014-01-10 00:00:...|  10025|         CLOSED|\n",
      "|   27250|2014-01-10 00:00:...|  10025|         CLOSED|\n",
      "|   44570|2014-04-27 00:00:...|   1422|       COMPLETE|\n",
      "|   44570|2014-04-27 00:00:...|   1422|       COMPLETE|\n",
      "|   59434|2013-09-29 00:00:...|   6332|       COMPLETE|\n",
      "|   59434|2013-09-29 00:00:...|   6332|       COMPLETE|\n",
      "+--------+--------------------+-------+---------------+\n",
      "only showing top 20 rows\n",
      "\n"
     ]
    }
   ],
   "source": [
    "orders_df.show()"
   ]
  },
  {
   "cell_type": "code",
   "execution_count": 29,
   "id": "a9415e0f",
   "metadata": {},
   "outputs": [
    {
     "data": {
      "text/plain": [
       "10"
      ]
     },
     "execution_count": 29,
     "metadata": {},
     "output_type": "execute_result"
    }
   ],
   "source": [
    "orders_df.rdd.getNumPartitions()"
   ]
  },
  {
   "cell_type": "code",
   "execution_count": 30,
   "id": "9ca03380",
   "metadata": {},
   "outputs": [
    {
     "data": {
      "text/plain": [
       "'4194304'"
      ]
     },
     "execution_count": 30,
     "metadata": {},
     "output_type": "execute_result"
    }
   ],
   "source": [
    "spark.conf.get(\"spark.sql.files.openCostInBytes\")"
   ]
  },
  {
   "cell_type": "code",
   "execution_count": 31,
   "id": "94ec6a81",
   "metadata": {},
   "outputs": [
    {
     "data": {
      "text/plain": [
       "4096.0"
      ]
     },
     "execution_count": 31,
     "metadata": {},
     "output_type": "execute_result"
    }
   ],
   "source": [
    "4194304/1024"
   ]
  },
  {
   "cell_type": "code",
   "execution_count": 32,
   "id": "f515b824",
   "metadata": {},
   "outputs": [
    {
     "data": {
      "text/plain": [
       "4.0"
      ]
     },
     "execution_count": 32,
     "metadata": {},
     "output_type": "execute_result"
    }
   ],
   "source": [
    "4096.0/1024"
   ]
  },
  {
   "cell_type": "code",
   "execution_count": 33,
   "id": "db617a29",
   "metadata": {},
   "outputs": [],
   "source": [
    "final_orders_df = new_orders_df.repartition(500)"
   ]
  },
  {
   "cell_type": "code",
   "execution_count": 34,
   "id": "a5360d5d",
   "metadata": {},
   "outputs": [
    {
     "data": {
      "text/plain": [
       "500"
      ]
     },
     "execution_count": 34,
     "metadata": {},
     "output_type": "execute_result"
    }
   ],
   "source": [
    "final_orders_df.rdd.getNumPartitions()"
   ]
  },
  {
   "cell_type": "code",
   "execution_count": 35,
   "id": "b73c115e",
   "metadata": {},
   "outputs": [],
   "source": [
    "final_orders_df.write \\\n",
    ".format(\"csv\") \\\n",
    ".mode(\"overwrite\") \\\n",
    ".save(\"orders_final_new\")"
   ]
  },
  {
   "cell_type": "code",
   "execution_count": 36,
   "id": "27f770a6",
   "metadata": {},
   "outputs": [],
   "source": [
    "orders_df = spark.read \\\n",
    ".format(\"csv\") \\\n",
    ".schema(orders_schema) \\\n",
    ".load(\"orders_final_new\")"
   ]
  },
  {
   "cell_type": "code",
   "execution_count": 37,
   "id": "3b234619",
   "metadata": {},
   "outputs": [
    {
     "data": {
      "text/plain": [
       "24"
      ]
     },
     "execution_count": 37,
     "metadata": {},
     "output_type": "execute_result"
    }
   ],
   "source": [
    "orders_df.rdd.getNumPartitions()"
   ]
  },
  {
   "cell_type": "code",
   "execution_count": null,
   "id": "67195901",
   "metadata": {},
   "outputs": [],
   "source": []
  },
  {
   "cell_type": "code",
   "execution_count": null,
   "id": "cd052675",
   "metadata": {},
   "outputs": [],
   "source": []
  }
 ],
 "metadata": {
  "kernelspec": {
   "display_name": "Pyspark 3",
   "language": "python",
   "name": "pyspark3"
  },
  "language_info": {
   "codemirror_mode": {
    "name": "ipython",
    "version": 3
   },
   "file_extension": ".py",
   "mimetype": "text/x-python",
   "name": "python",
   "nbconvert_exporter": "python",
   "pygments_lexer": "ipython3",
   "version": "3.6.12"
  }
 },
 "nbformat": 4,
 "nbformat_minor": 5
}
