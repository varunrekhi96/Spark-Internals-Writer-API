{
 "cells": [
  {
   "cell_type": "code",
   "execution_count": 1,
   "id": "f2a722be",
   "metadata": {},
   "outputs": [],
   "source": [
    "from pyspark.sql import SparkSession\n",
    "import getpass\n",
    "username = getpass.getuser()\n",
    "spark = SparkSession. \\\n",
    "builder. \\\n",
    "config('spark.ui.port','0'). \\\n",
    "config(\"spark.sql.warehouse.dir\", f\"/user/{username}/warehouse\"). \\\n",
    "enableHiveSupport(). \\\n",
    "master('yarn'). \\\n",
    "getOrCreate()"
   ]
  },
  {
   "cell_type": "code",
   "execution_count": 2,
   "id": "a6b66a94",
   "metadata": {},
   "outputs": [],
   "source": [
    "orders_schema = \"order_id long , order_date string, customer_id long,order_status string\""
   ]
  },
  {
   "cell_type": "code",
   "execution_count": 3,
   "id": "f7d4649a",
   "metadata": {},
   "outputs": [],
   "source": [
    "orders_df = spark.read \\\n",
    ".format(\"csv\") \\\n",
    ".schema(orders_schema) \\\n",
    ".load(\"/public/trendytech/orders/orders_1gb.csv\")"
   ]
  },
  {
   "cell_type": "code",
   "execution_count": 4,
   "id": "2e370af2",
   "metadata": {},
   "outputs": [
    {
     "name": "stdout",
     "output_type": "stream",
     "text": [
      "+--------+--------------------+-----------+---------------+\n",
      "|order_id|          order_date|customer_id|   order_status|\n",
      "+--------+--------------------+-----------+---------------+\n",
      "|       1|2013-07-25 00:00:...|      11599|         CLOSED|\n",
      "|       2|2013-07-25 00:00:...|        256|PENDING_PAYMENT|\n",
      "|       3|2013-07-25 00:00:...|      12111|       COMPLETE|\n",
      "|       4|2013-07-25 00:00:...|       8827|         CLOSED|\n",
      "|       5|2013-07-25 00:00:...|      11318|       COMPLETE|\n",
      "|       6|2013-07-25 00:00:...|       7130|       COMPLETE|\n",
      "|       7|2013-07-25 00:00:...|       4530|       COMPLETE|\n",
      "|       8|2013-07-25 00:00:...|       2911|     PROCESSING|\n",
      "|       9|2013-07-25 00:00:...|       5657|PENDING_PAYMENT|\n",
      "|      10|2013-07-25 00:00:...|       5648|PENDING_PAYMENT|\n",
      "|      11|2013-07-25 00:00:...|        918| PAYMENT_REVIEW|\n",
      "|      12|2013-07-25 00:00:...|       1837|         CLOSED|\n",
      "|      13|2013-07-25 00:00:...|       9149|PENDING_PAYMENT|\n",
      "|      14|2013-07-25 00:00:...|       9842|     PROCESSING|\n",
      "|      15|2013-07-25 00:00:...|       2568|       COMPLETE|\n",
      "|      16|2013-07-25 00:00:...|       7276|PENDING_PAYMENT|\n",
      "|      17|2013-07-25 00:00:...|       2667|       COMPLETE|\n",
      "|      18|2013-07-25 00:00:...|       1205|         CLOSED|\n",
      "|      19|2013-07-25 00:00:...|       9488|PENDING_PAYMENT|\n",
      "|      20|2013-07-25 00:00:...|       9198|     PROCESSING|\n",
      "+--------+--------------------+-----------+---------------+\n",
      "only showing top 20 rows\n",
      "\n"
     ]
    }
   ],
   "source": [
    "orders_df.show()"
   ]
  },
  {
   "cell_type": "code",
   "execution_count": 5,
   "id": "2945812c",
   "metadata": {},
   "outputs": [
    {
     "data": {
      "text/plain": [
       "9"
      ]
     },
     "execution_count": 5,
     "metadata": {},
     "output_type": "execute_result"
    }
   ],
   "source": [
    "orders_df.rdd.getNumPartitions()"
   ]
  },
  {
   "cell_type": "markdown",
   "id": "cc6c928b",
   "metadata": {},
   "source": [
    "#### Note : Please replace external id \"itv006277\" with your id number"
   ]
  },
  {
   "cell_type": "code",
   "execution_count": 6,
   "id": "7f30e6d1",
   "metadata": {},
   "outputs": [],
   "source": [
    "orders_df.write \\\n",
    ".format(\"csv\") \\\n",
    ".mode(\"overwrite\") \\\n",
    ".option(\"path\",\"/user/itv006277/sparkwriterdemo1\") \\\n",
    ".save()"
   ]
  },
  {
   "cell_type": "code",
   "execution_count": 7,
   "id": "d75dbc34",
   "metadata": {},
   "outputs": [],
   "source": [
    "orders_df.write \\\n",
    ".mode(\"overwrite\") \\\n",
    ".option(\"path\",\"/user/itv006277/sparkwriterdemo2\") \\\n",
    ".save()"
   ]
  },
  {
   "cell_type": "code",
   "execution_count": 11,
   "id": "e9b5bf49",
   "metadata": {},
   "outputs": [],
   "source": [
    "orders_df.write \\\n",
    ".format(\"json\") \\\n",
    ".mode(\"overwrite\") \\\n",
    ".option(\"path\",\"/user/itv006277/sparkwriterdemo3\") \\\n",
    ".save()"
   ]
  },
  {
   "cell_type": "code",
   "execution_count": 12,
   "id": "9d3b1891",
   "metadata": {},
   "outputs": [],
   "source": [
    "orders_df.write \\\n",
    ".format(\"orc\") \\\n",
    ".mode(\"overwrite\") \\\n",
    ".option(\"path\",\"/user/itv006277/sparkwriterdemo4\") \\\n",
    ".save()"
   ]
  },
  {
   "cell_type": "code",
   "execution_count": 13,
   "id": "feb85ef0",
   "metadata": {},
   "outputs": [],
   "source": [
    "orders_df.write \\\n",
    ".format(\"json\") \\\n",
    ".mode(\"overwrite\") \\\n",
    ".option(\"path\",\"/user/itv006277/sparkwriterdemo3\") \\\n",
    ".save()"
   ]
  },
  {
   "cell_type": "code",
   "execution_count": null,
   "id": "587ca36f",
   "metadata": {},
   "outputs": [],
   "source": []
  },
  {
   "cell_type": "code",
   "execution_count": null,
   "id": "9a69ac8b",
   "metadata": {},
   "outputs": [],
   "source": []
  }
 ],
 "metadata": {
  "kernelspec": {
   "display_name": "Pyspark 3",
   "language": "python",
   "name": "pyspark3"
  },
  "language_info": {
   "codemirror_mode": {
    "name": "ipython",
    "version": 3
   },
   "file_extension": ".py",
   "mimetype": "text/x-python",
   "name": "python",
   "nbconvert_exporter": "python",
   "pygments_lexer": "ipython3",
   "version": "3.6.12"
  }
 },
 "nbformat": 4,
 "nbformat_minor": 5
}
